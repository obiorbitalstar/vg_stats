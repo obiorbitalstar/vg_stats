{
 "metadata": {
  "language_info": {
   "codemirror_mode": {
    "name": "ipython",
    "version": 3
   },
   "file_extension": ".py",
   "mimetype": "text/x-python",
   "name": "python",
   "nbconvert_exporter": "python",
   "pygments_lexer": "ipython3",
   "version": "3.8.5-final"
  },
  "orig_nbformat": 2,
  "kernelspec": {
   "name": "python_defaultSpec_1599333498975",
   "display_name": "Python 3.8.5 64-bit ('.venv': venv)"
  }
 },
 "nbformat": 4,
 "nbformat_minor": 2,
 "cells": [
  {
   "cell_type": "code",
   "execution_count": 312,
   "metadata": {},
   "outputs": [
    {
     "output_type": "execute_result",
     "data": {
      "text/plain": "    Rank                               Name  ... Other_Sales  Global_Sales\n0      1                         Wii Sports  ...        8.46         82.74\n1      2                  Super Mario Bros.  ...        0.77         40.24\n2      3                     Mario Kart Wii  ...        3.31         35.82\n3      4                  Wii Sports Resort  ...        2.96         33.00\n4      5           Pokemon Red/Pokemon Blue  ...        1.00         31.37\n..   ...                                ...  ...         ...           ...\n57    58              Super Mario All-Stars  ...        0.29         10.55\n58    59  Pokemon FireRed/Pokemon LeafGreen  ...        0.35         10.49\n59    60                     Super Mario 64  ...        0.98         10.42\n60    61                       Just Dance 3  ...        1.07         10.26\n61    62               Call of Duty: Ghosts  ...        0.82         10.21\n\n[62 rows x 11 columns]",
      "text/html": "<div>\n<style scoped>\n    .dataframe tbody tr th:only-of-type {\n        vertical-align: middle;\n    }\n\n    .dataframe tbody tr th {\n        vertical-align: top;\n    }\n\n    .dataframe thead th {\n        text-align: right;\n    }\n</style>\n<table border=\"1\" class=\"dataframe\">\n  <thead>\n    <tr style=\"text-align: right;\">\n      <th></th>\n      <th>Rank</th>\n      <th>Name</th>\n      <th>Platform</th>\n      <th>Year</th>\n      <th>Genre</th>\n      <th>Publisher</th>\n      <th>NA_Sales</th>\n      <th>EU_Sales</th>\n      <th>JP_Sales</th>\n      <th>Other_Sales</th>\n      <th>Global_Sales</th>\n    </tr>\n  </thead>\n  <tbody>\n    <tr>\n      <th>0</th>\n      <td>1</td>\n      <td>Wii Sports</td>\n      <td>Wii</td>\n      <td>2006.0</td>\n      <td>Sports</td>\n      <td>Nintendo</td>\n      <td>41.49</td>\n      <td>29.02</td>\n      <td>3.77</td>\n      <td>8.46</td>\n      <td>82.74</td>\n    </tr>\n    <tr>\n      <th>1</th>\n      <td>2</td>\n      <td>Super Mario Bros.</td>\n      <td>NES</td>\n      <td>1985.0</td>\n      <td>Platform</td>\n      <td>Nintendo</td>\n      <td>29.08</td>\n      <td>3.58</td>\n      <td>6.81</td>\n      <td>0.77</td>\n      <td>40.24</td>\n    </tr>\n    <tr>\n      <th>2</th>\n      <td>3</td>\n      <td>Mario Kart Wii</td>\n      <td>Wii</td>\n      <td>2008.0</td>\n      <td>Racing</td>\n      <td>Nintendo</td>\n      <td>15.85</td>\n      <td>12.88</td>\n      <td>3.79</td>\n      <td>3.31</td>\n      <td>35.82</td>\n    </tr>\n    <tr>\n      <th>3</th>\n      <td>4</td>\n      <td>Wii Sports Resort</td>\n      <td>Wii</td>\n      <td>2009.0</td>\n      <td>Sports</td>\n      <td>Nintendo</td>\n      <td>15.75</td>\n      <td>11.01</td>\n      <td>3.28</td>\n      <td>2.96</td>\n      <td>33.00</td>\n    </tr>\n    <tr>\n      <th>4</th>\n      <td>5</td>\n      <td>Pokemon Red/Pokemon Blue</td>\n      <td>GB</td>\n      <td>1996.0</td>\n      <td>Role-Playing</td>\n      <td>Nintendo</td>\n      <td>11.27</td>\n      <td>8.89</td>\n      <td>10.22</td>\n      <td>1.00</td>\n      <td>31.37</td>\n    </tr>\n    <tr>\n      <th>...</th>\n      <td>...</td>\n      <td>...</td>\n      <td>...</td>\n      <td>...</td>\n      <td>...</td>\n      <td>...</td>\n      <td>...</td>\n      <td>...</td>\n      <td>...</td>\n      <td>...</td>\n      <td>...</td>\n    </tr>\n    <tr>\n      <th>57</th>\n      <td>58</td>\n      <td>Super Mario All-Stars</td>\n      <td>SNES</td>\n      <td>1993.0</td>\n      <td>Platform</td>\n      <td>Nintendo</td>\n      <td>5.99</td>\n      <td>2.15</td>\n      <td>2.12</td>\n      <td>0.29</td>\n      <td>10.55</td>\n    </tr>\n    <tr>\n      <th>58</th>\n      <td>59</td>\n      <td>Pokemon FireRed/Pokemon LeafGreen</td>\n      <td>GBA</td>\n      <td>2004.0</td>\n      <td>Role-Playing</td>\n      <td>Nintendo</td>\n      <td>4.34</td>\n      <td>2.65</td>\n      <td>3.15</td>\n      <td>0.35</td>\n      <td>10.49</td>\n    </tr>\n    <tr>\n      <th>59</th>\n      <td>60</td>\n      <td>Super Mario 64</td>\n      <td>DS</td>\n      <td>2004.0</td>\n      <td>Platform</td>\n      <td>Nintendo</td>\n      <td>5.08</td>\n      <td>3.11</td>\n      <td>1.25</td>\n      <td>0.98</td>\n      <td>10.42</td>\n    </tr>\n    <tr>\n      <th>60</th>\n      <td>61</td>\n      <td>Just Dance 3</td>\n      <td>Wii</td>\n      <td>2011.0</td>\n      <td>Misc</td>\n      <td>Ubisoft</td>\n      <td>6.05</td>\n      <td>3.15</td>\n      <td>0.00</td>\n      <td>1.07</td>\n      <td>10.26</td>\n    </tr>\n    <tr>\n      <th>61</th>\n      <td>62</td>\n      <td>Call of Duty: Ghosts</td>\n      <td>X360</td>\n      <td>2013.0</td>\n      <td>Shooter</td>\n      <td>Activision</td>\n      <td>6.72</td>\n      <td>2.63</td>\n      <td>0.04</td>\n      <td>0.82</td>\n      <td>10.21</td>\n    </tr>\n  </tbody>\n</table>\n<p>62 rows × 11 columns</p>\n</div>"
     },
     "metadata": {},
     "execution_count": 312
    }
   ],
   "source": [
    "import numpy as np \n",
    "import pandas as pd\n",
    "import matplotlib.pyplot as plt\n",
    "df = pd.read_csv(\"vgsales.csv\")\n",
    "top_selling =df[df['Global_Sales'] > 10.000]\n",
    "top_selling.sort_values('Global_Sales',ascending=False)\n"
   ]
  },
  {
   "cell_type": "markdown",
   "metadata": {},
   "source": [
    "### Which company is the most common video game publisher?\n"
   ]
  },
  {
   "cell_type": "code",
   "execution_count": 313,
   "metadata": {},
   "outputs": [
    {
     "output_type": "execute_result",
     "data": {
      "text/plain": "'Electronic Arts'"
     },
     "metadata": {},
     "execution_count": 313
    }
   ],
   "source": [
    "df['Publisher'].value_counts().idxmax()"
   ]
  },
  {
   "cell_type": "markdown",
   "metadata": {},
   "source": [
    "### What’s the most common platform?\n"
   ]
  },
  {
   "cell_type": "code",
   "execution_count": 314,
   "metadata": {},
   "outputs": [
    {
     "output_type": "execute_result",
     "data": {
      "text/plain": "'DS'"
     },
     "metadata": {},
     "execution_count": 314
    }
   ],
   "source": [
    "df['Platform'].value_counts().idxmax()"
   ]
  },
  {
   "cell_type": "markdown",
   "metadata": {},
   "source": [
    "### What about the most common genre?"
   ]
  },
  {
   "cell_type": "code",
   "execution_count": 315,
   "metadata": {},
   "outputs": [
    {
     "output_type": "execute_result",
     "data": {
      "text/plain": "'Action'"
     },
     "metadata": {},
     "execution_count": 315
    }
   ],
   "source": [
    "df['Genre'].value_counts().idxmax()"
   ]
  },
  {
   "cell_type": "markdown",
   "metadata": {},
   "source": [
    "### What are the top 20 highest grossing games?\n"
   ]
  },
  {
   "cell_type": "code",
   "execution_count": 316,
   "metadata": {},
   "outputs": [
    {
     "output_type": "execute_result",
     "data": {
      "text/plain": "0                                       Wii Sports\n1                                Super Mario Bros.\n2                                   Mario Kart Wii\n3                                Wii Sports Resort\n4                         Pokemon Red/Pokemon Blue\n5                                           Tetris\n6                            New Super Mario Bros.\n7                                         Wii Play\n8                        New Super Mario Bros. Wii\n9                                        Duck Hunt\n10                                      Nintendogs\n11                                   Mario Kart DS\n12                     Pokemon Gold/Pokemon Silver\n13                                         Wii Fit\n14                                    Wii Fit Plus\n15                              Kinect Adventures!\n16                              Grand Theft Auto V\n17                   Grand Theft Auto: San Andreas\n18                               Super Mario World\n19    Brain Age: Train Your Brain in Minutes a Day\nName: Name, dtype: object"
     },
     "metadata": {},
     "execution_count": 316
    }
   ],
   "source": [
    "df.sort_values('Rank', ascending=True).head(20)['Name']"
   ]
  },
  {
   "cell_type": "markdown",
   "metadata": {},
   "source": [
    "### For North American video game sales, what’s the median?\n"
   ]
  },
  {
   "cell_type": "code",
   "execution_count": 317,
   "metadata": {},
   "outputs": [
    {
     "output_type": "execute_result",
     "data": {
      "text/plain": "137                               World of Warcraft\n446                               Dragon Warrior IV\n497     World Soccer Winning Eleven 7 International\n504                               Colin McRae Rally\n704                   TOCA Touring Car Championship\n1353             Dragon Quest VII: Warriors of Eden\n1617                         Farming Simulator 2015\n1690                      Pro Evolution Soccer 2008\n1926                      Pro Evolution Soccer 2008\n1993                               Tales of Destiny\nName: Name, dtype: object"
     },
     "metadata": {},
     "execution_count": 317
    }
   ],
   "source": [
    "median=df['NA_Sales'].median()\n",
    "\n",
    "df[(df['NA_Sales']>= df['NA_Sales'].median()-0.01) & (df['NA_Sales'] <= df['NA_Sales'].median()+0.01)].head(10)['Name']"
   ]
  },
  {
   "cell_type": "markdown",
   "metadata": {},
   "source": [
    "### For the top-selling game of all time, how many standard deviations above/below the mean are its sales for North America?"
   ]
  },
  {
   "cell_type": "code",
   "execution_count": 318,
   "metadata": {},
   "outputs": [
    {
     "output_type": "execute_result",
     "data": {
      "text/plain": "     Rank               Name Platform  ...  JP_Sales Other_Sales Global_Sales\n77     78            FIFA 16      PS4  ...      0.06        1.26         8.49\n78     79          Wii Party      Wii  ...      2.49        0.68         8.49\n82     83     FIFA Soccer 13      PS3  ...      0.13        2.01         8.24\n83     84         The Sims 3       PC  ...      0.00        0.71         8.11\n112   113            FIFA 14      PS3  ...      0.07        1.73         6.90\n121   122            FIFA 12      PS3  ...      0.11        1.42         6.69\n122   123  Big Brain Academy       DS  ...      1.60        0.62         6.67\n124   125            FIFA 15      PS4  ...      0.05        1.47         6.59\n137   138  World of Warcraft       PC  ...      0.00        0.00         6.28\n147   148  Final Fantasy XII      PS2  ...      2.33        1.74         5.95\n\n[10 rows x 11 columns]",
      "text/html": "<div>\n<style scoped>\n    .dataframe tbody tr th:only-of-type {\n        vertical-align: middle;\n    }\n\n    .dataframe tbody tr th {\n        vertical-align: top;\n    }\n\n    .dataframe thead th {\n        text-align: right;\n    }\n</style>\n<table border=\"1\" class=\"dataframe\">\n  <thead>\n    <tr style=\"text-align: right;\">\n      <th></th>\n      <th>Rank</th>\n      <th>Name</th>\n      <th>Platform</th>\n      <th>Year</th>\n      <th>Genre</th>\n      <th>Publisher</th>\n      <th>NA_Sales</th>\n      <th>EU_Sales</th>\n      <th>JP_Sales</th>\n      <th>Other_Sales</th>\n      <th>Global_Sales</th>\n    </tr>\n  </thead>\n  <tbody>\n    <tr>\n      <th>77</th>\n      <td>78</td>\n      <td>FIFA 16</td>\n      <td>PS4</td>\n      <td>2015.0</td>\n      <td>Sports</td>\n      <td>Electronic Arts</td>\n      <td>1.11</td>\n      <td>6.06</td>\n      <td>0.06</td>\n      <td>1.26</td>\n      <td>8.49</td>\n    </tr>\n    <tr>\n      <th>78</th>\n      <td>79</td>\n      <td>Wii Party</td>\n      <td>Wii</td>\n      <td>2010.0</td>\n      <td>Misc</td>\n      <td>Nintendo</td>\n      <td>1.79</td>\n      <td>3.53</td>\n      <td>2.49</td>\n      <td>0.68</td>\n      <td>8.49</td>\n    </tr>\n    <tr>\n      <th>82</th>\n      <td>83</td>\n      <td>FIFA Soccer 13</td>\n      <td>PS3</td>\n      <td>2012.0</td>\n      <td>Action</td>\n      <td>Electronic Arts</td>\n      <td>1.06</td>\n      <td>5.05</td>\n      <td>0.13</td>\n      <td>2.01</td>\n      <td>8.24</td>\n    </tr>\n    <tr>\n      <th>83</th>\n      <td>84</td>\n      <td>The Sims 3</td>\n      <td>PC</td>\n      <td>2009.0</td>\n      <td>Simulation</td>\n      <td>Electronic Arts</td>\n      <td>0.98</td>\n      <td>6.42</td>\n      <td>0.00</td>\n      <td>0.71</td>\n      <td>8.11</td>\n    </tr>\n    <tr>\n      <th>112</th>\n      <td>113</td>\n      <td>FIFA 14</td>\n      <td>PS3</td>\n      <td>2013.0</td>\n      <td>Sports</td>\n      <td>Electronic Arts</td>\n      <td>0.78</td>\n      <td>4.32</td>\n      <td>0.07</td>\n      <td>1.73</td>\n      <td>6.90</td>\n    </tr>\n    <tr>\n      <th>121</th>\n      <td>122</td>\n      <td>FIFA 12</td>\n      <td>PS3</td>\n      <td>2011.0</td>\n      <td>Sports</td>\n      <td>Electronic Arts</td>\n      <td>0.84</td>\n      <td>4.32</td>\n      <td>0.11</td>\n      <td>1.42</td>\n      <td>6.69</td>\n    </tr>\n    <tr>\n      <th>122</th>\n      <td>123</td>\n      <td>Big Brain Academy</td>\n      <td>DS</td>\n      <td>2005.0</td>\n      <td>Misc</td>\n      <td>Nintendo</td>\n      <td>1.67</td>\n      <td>2.78</td>\n      <td>1.60</td>\n      <td>0.62</td>\n      <td>6.67</td>\n    </tr>\n    <tr>\n      <th>124</th>\n      <td>125</td>\n      <td>FIFA 15</td>\n      <td>PS4</td>\n      <td>2014.0</td>\n      <td>Sports</td>\n      <td>Electronic Arts</td>\n      <td>0.79</td>\n      <td>4.29</td>\n      <td>0.05</td>\n      <td>1.47</td>\n      <td>6.59</td>\n    </tr>\n    <tr>\n      <th>137</th>\n      <td>138</td>\n      <td>World of Warcraft</td>\n      <td>PC</td>\n      <td>2004.0</td>\n      <td>Role-Playing</td>\n      <td>Activision</td>\n      <td>0.07</td>\n      <td>6.21</td>\n      <td>0.00</td>\n      <td>0.00</td>\n      <td>6.28</td>\n    </tr>\n    <tr>\n      <th>147</th>\n      <td>148</td>\n      <td>Final Fantasy XII</td>\n      <td>PS2</td>\n      <td>2006.0</td>\n      <td>Role-Playing</td>\n      <td>Square Enix</td>\n      <td>1.88</td>\n      <td>0.00</td>\n      <td>2.33</td>\n      <td>1.74</td>\n      <td>5.95</td>\n    </tr>\n  </tbody>\n</table>\n</div>"
     },
     "metadata": {},
     "execution_count": 318
    }
   ],
   "source": [
    "top_game= df['NA_Sales'].std(axis=0)\n",
    "def zscore(s):\n",
    "    return (s - np.mean(s)) / np.std(s)\n",
    "df[zscore(df['NA_Sales']).abs().le(2)].head(10)\n"
   ]
  },
  {
   "cell_type": "markdown",
   "metadata": {},
   "source": [
    "### The Nintendo Wii seems to have outdone itself with games. How does its average number of sales compare with all of the other platforms?"
   ]
  },
  {
   "cell_type": "code",
   "execution_count": 329,
   "metadata": {
    "tags": []
   },
   "outputs": [
    {
     "output_type": "stream",
     "name": "stdout",
     "text": "Wii Avg:\n Rank            7730.774340\nYear            2008.962791\nNA_Sales           0.383177\nEU_Sales           0.202551\nJP_Sales           0.052340\nOther_Sales        0.060838\nGlobal_Sales       0.699404\ndtype: float64 \n \nOther companies Avg:\n Rank            8350.040595\nYear            2006.187138\nNA_Sales           0.254386\nEU_Sales           0.141803\nJP_Sales           0.079989\nOther_Sales        0.046955\nGlobal_Sales       0.523390\ndtype: float64\n"
    }
   ],
   "source": [
    "wii_wins = df[df[\"Platform\"]==\"Wii\"].mean()\n",
    "other_ones=df[df.Platform != \"Wii\"].mean()\n",
    "print('Wii Avg:\\n',wii_wins,'\\n \\nOther companies Avg:\\n',other_ones)\n"
   ]
  },
  {
   "cell_type": "code",
   "execution_count": null,
   "metadata": {},
   "outputs": [],
   "source": [
    "def test():\n",
    "\n",
    "    def assert_equal(actual,expected):\n",
    "        assert actual == expected, f\"Expected {expected} but got {actual}\"\n",
    "\n",
    "    assert_equal(most_common_publisher, None)\n",
    "    assert_equal(most_common_platform, None)\n",
    "    assert_equal(most_common_genre, None)\n",
    "    assert_equal(top_twenty_highest_grossing_games.iloc[0].Name, None)\n",
    "    assert_equal(top_twenty_highest_grossing_games.iloc[19].Name, None)\n",
    "    assert_equal(na_median_sales, None)\n",
    "    assert_equal(ten_median_na_seller_names, None)\n",
    "\n",
    "    print(\"Success!!!\")\n",
    "\n",
    "test()"
   ]
  }
 ]
}